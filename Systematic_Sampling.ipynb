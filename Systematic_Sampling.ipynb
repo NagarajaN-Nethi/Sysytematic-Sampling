{
  "nbformat": 4,
  "nbformat_minor": 0,
  "metadata": {
    "colab": {
      "name": "Systematic Sampling",
      "provenance": [],
      "collapsed_sections": [],
      "authorship_tag": "ABX9TyM/PrDLJkCqxIJBn7Nvg2QU",
      "include_colab_link": true
    },
    "kernelspec": {
      "name": "python3",
      "display_name": "Python 3"
    }
  },
  "cells": [
    {
      "cell_type": "markdown",
      "metadata": {
        "id": "view-in-github",
        "colab_type": "text"
      },
      "source": [
        "<a href=\"https://colab.research.google.com/github/ns08/Sysytematic-Sampling/blob/master/Systematic_Sampling.ipynb\" target=\"_parent\"><img src=\"https://colab.research.google.com/assets/colab-badge.svg\" alt=\"Open In Colab\"/></a>"
      ]
    },
    {
      "cell_type": "code",
      "metadata": {
        "id": "fxV0KSPbtelW",
        "colab_type": "code",
        "colab": {}
      },
      "source": [
        "def systematic_sample(N, n):\n",
        "  '''\n",
        "  Inputs:\n",
        "  N = The size of the popultation\n",
        "  n = The size of the sample\n",
        "\n",
        "  Returns:\n",
        "  A systematic sample\n",
        "  '''\n",
        "  import numpy as np\n",
        "  k = round(N / n)\n",
        "  r = np.random.choice(a = np.arange(1, k), size = 1)\n",
        "  systematic_sample = np.arange(r, (r + k*(n-1)), k)\n",
        "  return(systematic_sample)"
      ],
      "execution_count": 62,
      "outputs": []
    },
    {
      "cell_type": "code",
      "metadata": {
        "id": "tXVJnIFkY70d",
        "colab_type": "code",
        "colab": {}
      },
      "source": [
        "def selecting_sample(data, sample_size):\n",
        "  '''\n",
        "  data : Input a dataframe in which you want a sample\n",
        "  sample_size : Input the sample size required \n",
        "\n",
        "  Returns : A systematic sample\n",
        "  '''\n",
        "  x = systematic_sample(data.shape[0], sample_size + 1)\n",
        "  print(sample_size)\n",
        "  selecting_sample = data.loc[x,:]\n",
        "  return(selecting_sample)"
      ],
      "execution_count": 105,
      "outputs": []
    }
  ]
}