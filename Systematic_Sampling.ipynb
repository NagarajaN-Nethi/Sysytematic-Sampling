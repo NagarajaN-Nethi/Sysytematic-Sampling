{
  "nbformat": 4,
  "nbformat_minor": 0,
  "metadata": {
    "colab": {
      "name": "Systematic Sampling",
      "provenance": [],
      "collapsed_sections": [],
      "authorship_tag": "ABX9TyOa3dFQkXu6jG88PTRJkhcj",
      "include_colab_link": true
    },
    "kernelspec": {
      "name": "python3",
      "display_name": "Python 3"
    }
  },
  "cells": [
    {
      "cell_type": "markdown",
      "metadata": {
        "id": "view-in-github",
        "colab_type": "text"
      },
      "source": [
        "<a href=\"https://colab.research.google.com/github/ns08/Sysytematic-Sampling/blob/master/Systematic_Sampling.ipynb\" target=\"_parent\"><img src=\"https://colab.research.google.com/assets/colab-badge.svg\" alt=\"Open In Colab\"/></a>"
      ]
    },
    {
      "cell_type": "code",
      "metadata": {
        "id": "fxV0KSPbtelW",
        "colab_type": "code",
        "colab": {}
      },
      "source": [
        "def systematic_sample(N, n):\n",
        "  import numpy as np\n",
        "  k = round(N / n)\n",
        "  r = np.random.choice(a = np.arange(1, k), size = 1)\n",
        "  systematic_sample = np.array(np.arange(r, (r + k*(n-1)), k))\n",
        "  return(systematic_sample)"
      ],
      "execution_count": null,
      "outputs": []
    },
    {
      "cell_type": "code",
      "metadata": {
        "id": "P5BYMHYjvoLg",
        "colab_type": "code",
        "colab": {
          "base_uri": "https://localhost:8080/",
          "height": 35
        },
        "outputId": "3d7b88b0-ab83-4269-a1e2-016e81a25bbf"
      },
      "source": [
        "systematic_sample(50, 5)"
      ],
      "execution_count": null,
      "outputs": [
        {
          "output_type": "execute_result",
          "data": {
            "text/plain": [
              "array([ 3, 13, 23, 33])"
            ]
          },
          "metadata": {
            "tags": []
          },
          "execution_count": 32
        }
      ]
    },
    {
      "cell_type": "code",
      "metadata": {
        "id": "pOnnjMwXvr4n",
        "colab_type": "code",
        "colab": {}
      },
      "source": [
        ""
      ],
      "execution_count": null,
      "outputs": []
    }
  ]
}