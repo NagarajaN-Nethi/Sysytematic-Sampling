{
  "nbformat": 4,
  "nbformat_minor": 0,
  "metadata": {
    "colab": {
      "name": "Systematic Sampling",
      "provenance": [],
      "collapsed_sections": [],
      "authorship_tag": "ABX9TyMDrOZqXmCvn3DuE5Uesaus",
      "include_colab_link": true
    },
    "kernelspec": {
      "name": "python3",
      "display_name": "Python 3"
    }
  },
  "cells": [
    {
      "cell_type": "markdown",
      "metadata": {
        "id": "view-in-github",
        "colab_type": "text"
      },
      "source": [
        "<a href=\"https://colab.research.google.com/github/ns08/Sysytematic-Sampling/blob/master/Systematic_Sampling.ipynb\" target=\"_parent\"><img src=\"https://colab.research.google.com/assets/colab-badge.svg\" alt=\"Open In Colab\"/></a>"
      ]
    },
    {
      "cell_type": "code",
      "metadata": {
        "id": "fxV0KSPbtelW",
        "colab_type": "code",
        "colab": {}
      },
      "source": [
        "def systematic_sample(N, n):\n",
        "  '''\n",
        "  Inputs:\n",
        "  N = The size of the popultation\n",
        "  n = The size of the sample\n",
        "\n",
        "  Returns:\n",
        "  A systematic sample\n",
        "  '''\n",
        "  import numpy as np\n",
        "  k = round(N / n)\n",
        "  r = np.random.choice(a = np.arange(1, k), size = 1)\n",
        "  systematic_sample = np.arange(r, (r + k*(n-1)), k)\n",
        "  return(systematic_sample)"
      ],
      "execution_count": 5,
      "outputs": []
    },
    {
      "cell_type": "code",
      "metadata": {
        "id": "P5BYMHYjvoLg",
        "colab_type": "code",
        "colab": {
          "base_uri": "https://localhost:8080/",
          "height": 35
        },
        "outputId": "331ce17e-1f81-4285-bb72-41962054bacd"
      },
      "source": [
        "systematic_sample(50, 5)"
      ],
      "execution_count": 6,
      "outputs": [
        {
          "output_type": "execute_result",
          "data": {
            "text/plain": [
              "array([ 7, 17, 27, 37])"
            ]
          },
          "metadata": {
            "tags": []
          },
          "execution_count": 6
        }
      ]
    },
    {
      "cell_type": "code",
      "metadata": {
        "id": "9RpDXrqqy1gG",
        "colab_type": "code",
        "colab": {}
      },
      "source": [
        ""
      ],
      "execution_count": null,
      "outputs": []
    }
  ]
}